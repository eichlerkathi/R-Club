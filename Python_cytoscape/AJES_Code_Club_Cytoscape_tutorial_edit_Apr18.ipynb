{
 "cells": [
  {
   "cell_type": "code",
   "execution_count": null,
   "metadata": {
    "collapsed": true
   },
   "outputs": [],
   "source": [
    "#Instead of doing the following in Philipp's tutorial...\n",
    "\n",
    "#def guess_glom(x):\n",
    "#    \"\"\"Takes a neuron name and guesses the glomerulus.\"\"\"\n",
    "#    return re.search('glomerulus (.*?) ', x).group(1)\n",
    "#\n",
    "# Generate a dictionary that groups PNs into glomeruli\n",
    "#gloms = { n.skeleton_id : guess_glom( n.neuron_name) for n in ns }\n",
    "#by_glom = { g : [ n for n in gloms if gloms[n] == g ] for g in set(gloms.values()) }\n",
    "\n",
    "#group neurons based on annotations:"
   ]
  },
  {
   "cell_type": "code",
   "execution_count": null,
   "metadata": {
    "collapsed": true
   },
   "outputs": [],
   "source": [
    "#Searches for annotations of which you want to group nodes\n",
    "by_lin = dict(\n",
    "    LIN1 = ns.has_annotation(\"AJES_y5_sampled_lin1\").skeleton_id,\n",
    "    LIN2 = ns.has_annotation(\"AJES_y5_sampled_lin2\").skeleton_id,\n",
    "    LIN3 = ns.has_annotation(\"AJES_y5_sampled_lin3\").skeleton_id,\n",
    "    #LIN4 = ns.has_annotation(\"AJES_y5_sampled_lin4\").skeleton_id,\n",
    "    LIN5 = ns.has_annotation(\"AJES_y5_sampled_lin5\").skeleton_id,\n",
    "    LIN6 = ns.has_annotation(\"AJES_y5_sampled_lin6\").skeleton_id,\n",
    "    LIN7 = ns.has_annotation(\"AJES_y5_sampled_lin7\").skeleton_id,\n",
    "    LIN8 = ns.has_annotation(\"AJES_y5_sampled_lin8\").skeleton_id,\n",
    "    LIN9 = ns.has_annotation(\"AJES_y5_sampled_lin9\").skeleton_id,\n",
    "    LIN10 = ns.has_annotation(\"AJES_y5_sampled_lin10\").skeleton_id,\n",
    "    LIN11 = ns.has_annotation(\"AJES_y5_sampled_lin11\").skeleton_id,\n",
    "    LIN12 = ns.has_annotation(\"AJES_y5_sampled_lin12\").skeleton_id,\n",
    "    LIN13 = ns.has_annotation(\"AJES_y5_sampled_lin13\").skeleton_id,\n",
    "    LIN14 = ns.has_annotation(\"AJES_y5_sampled_lin14\").skeleton_id,\n",
    "    LIN15 = ns.has_annotation(\"AJES_y5_sampled_lin15\").skeleton_id,\n",
    "    LIN16 = ns.has_annotation(\"AJES_y5_sampled_lin16\").skeleton_id,\n",
    "    SEZ1 = ns.has_annotation(\"AJES_y5_sampled_SEZ1\").skeleton_id,\n",
    "    SEZ2 = ns.has_annotation(\"AJES_y5_sampled_SEZ1\").skeleton_id,\n",
    "    SEZ3 = ns.has_annotation(\"AJES_y5_sampled_SEZ1\").skeleton_id,\n",
    "    SEZ4 = ns.has_annotation(\"AJES_y5_sampled_SEZ1\").skeleton_id,\n",
    "    VNC = ns.has_annotation(\"AJES_y5_sampled_VNC\").skeleton_id,\n",
    "    MBON_y2aprime1 = ns.has_annotation(\"MBON-y2a'1\").skeleton_id\n",
    ")\n",
    "by_lin"
   ]
  },
  {
   "cell_type": "code",
   "execution_count": null,
   "metadata": {
    "collapsed": true
   },
   "outputs": [],
   "source": [
    "# Generate an adjaceny matrix and group by glomerulus\n",
    "adj_mat = pymaid.adjacency_matrix(ns, ns, col_groups = by_lin, row_groups = by_lin)\n",
    "#adj_mat = pymaid.adjacency_matrix(ns, ns)\n",
    "adj_mat.head()"
   ]
  },
  {
   "cell_type": "code",
   "execution_count": null,
   "metadata": {
    "collapsed": true
   },
   "outputs": [],
   "source": [
    "#TODO:\n",
    "\n",
    "#Change NODE_FILL_COLOR for different grouped neurons\n",
    "#Add number of neurons in each collapsed group"
   ]
  }
 ],
 "metadata": {
  "kernelspec": {
   "display_name": "Python 3",
   "language": "python",
   "name": "python3"
  },
  "language_info": {
   "codemirror_mode": {
    "name": "ipython",
    "version": 3
   },
   "file_extension": ".py",
   "mimetype": "text/x-python",
   "name": "python",
   "nbconvert_exporter": "python",
   "pygments_lexer": "ipython3",
   "version": "3.6.0"
  }
 },
 "nbformat": 4,
 "nbformat_minor": 2
}
